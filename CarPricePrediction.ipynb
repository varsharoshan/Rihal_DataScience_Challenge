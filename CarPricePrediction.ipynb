{
  "nbformat": 4,
  "nbformat_minor": 0,
  "metadata": {
    "colab": {
      "name": "CarPricePrediction.ipynb",
      "provenance": [],
      "collapsed_sections": [],
      "authorship_tag": "ABX9TyM5fFED9fvvge+XzJx024j6",
      "include_colab_link": true
    },
    "kernelspec": {
      "name": "python3",
      "display_name": "Python 3"
    },
    "language_info": {
      "name": "python"
    }
  },
  "cells": [
    {
      "cell_type": "markdown",
      "metadata": {
        "id": "view-in-github",
        "colab_type": "text"
      },
      "source": [
        "<a href=\"https://colab.research.google.com/github/varsharoshan/Rihal_DataScience_Challenge/blob/main/CarPricePrediction.ipynb\" target=\"_parent\"><img src=\"https://colab.research.google.com/assets/colab-badge.svg\" alt=\"Open In Colab\"/></a>"
      ]
    },
    {
      "cell_type": "markdown",
      "source": [
        "**Importing** **the** **Dependencies** \n"
      ],
      "metadata": {
        "id": "Qdcq7SjyHv2t"
      }
    },
    {
      "cell_type": "code",
      "source": [
        "import pandas as pd\n",
        "import numpy as np\n",
        "import seaborn as sns\n",
        "import matplotlib.pyplot as plt\n",
        "from sklearn.linear_model import LinearRegression\n",
        "from sklearn.linear_model import Lasso\n",
        "from sklearn import metrics\n",
        "from sklearn.metrics import mean_squared_error\n",
        "\n"
      ],
      "metadata": {
        "id": "O4RfQus4H3ug"
      },
      "execution_count": null,
      "outputs": []
    },
    {
      "cell_type": "markdown",
      "source": [
        "**DATA COLLECTION AND PROCESSING**"
      ],
      "metadata": {
        "id": "1yZE6C6iIN4a"
      }
    },
    {
      "cell_type": "code",
      "source": [
        "pd.options.display.max_columns = 110\n",
        "df_train = pd.read_csv('/data_train.csv')\n",
        "display(df_train.head())\n",
        "df_test = pd.read_csv('/data_test.csv')\n",
        "display(df_test.head())\n"
      ],
      "metadata": {
        "id": "jZPmPVZ_IWcA"
      },
      "execution_count": null,
      "outputs": []
    },
    {
      "cell_type": "markdown",
      "source": [
        "checking the number of rows and columns"
      ],
      "metadata": {
        "id": "9w-6rTfTMgVM"
      }
    },
    {
      "cell_type": "code",
      "source": [
        "#checking the number of rows and columns\n",
        "df_train.shape\n"
      ],
      "metadata": {
        "id": "M0oChEV1MYh_"
      },
      "execution_count": null,
      "outputs": []
    },
    {
      "cell_type": "code",
      "source": [
        "df_test.shape"
      ],
      "metadata": {
        "id": "lHo4OMXvfL3i"
      },
      "execution_count": null,
      "outputs": []
    },
    {
      "cell_type": "markdown",
      "source": [
        "Getting some information about dataset \n"
      ],
      "metadata": {
        "id": "si3lsnBc6a7u"
      }
    },
    {
      "cell_type": "code",
      "source": [
        "df_train.info()"
      ],
      "metadata": {
        "id": "ube80iqk6qBN"
      },
      "execution_count": null,
      "outputs": []
    },
    {
      "cell_type": "code",
      "source": [
        "df_test.info()"
      ],
      "metadata": {
        "id": "QKVSeqLVR_qY"
      },
      "execution_count": null,
      "outputs": []
    },
    {
      "cell_type": "markdown",
      "source": [
        "Checking the missing values"
      ],
      "metadata": {
        "id": "Od93PJZ9Cc_y"
      }
    },
    {
      "cell_type": "code",
      "source": [
        "df_train.isnull().sum()"
      ],
      "metadata": {
        "id": "BmsbTh3MCbwc"
      },
      "execution_count": null,
      "outputs": []
    },
    {
      "cell_type": "code",
      "source": [
        "df_test.isnull().sum()"
      ],
      "metadata": {
        "id": "D6TlmkJ6R8zD"
      },
      "execution_count": null,
      "outputs": []
    },
    {
      "cell_type": "markdown",
      "source": [
        "**Imputing the missing values**       \n",
        "\n",
        "There are several ways of replacing missing values:\n",
        "Replacing with mean:This is the most common method of imputing the missing values of numeric columns. We use 'fillna' method for imputing the column \"engine_capacity\" with the mean of respective column values.\n"
      ],
      "metadata": {
        "id": "4IZBXzUNFvWZ"
      }
    },
    {
      "cell_type": "code",
      "source": [
        "#replace the missing values for columns with mean in training set\n",
        "df_train['engine_capacity'] = df_train['engine_capacity'].fillna(df_train['engine_capacity'].mean())\n"
      ],
      "metadata": {
        "id": "aNhKgwaLHJef"
      },
      "execution_count": null,
      "outputs": []
    },
    {
      "cell_type": "code",
      "source": [
        "df_train.isnull().sum()"
      ],
      "metadata": {
        "id": "hodyvfOLIFG4"
      },
      "execution_count": null,
      "outputs": []
    },
    {
      "cell_type": "code",
      "source": [
        "#replace the missing values for columns with mean in test set\n",
        "df_test['engine_capacity'] = df_test['engine_capacity'].fillna(df_test['engine_capacity'].mean())"
      ],
      "metadata": {
        "id": "rmNkg_WBSciO"
      },
      "execution_count": null,
      "outputs": []
    },
    {
      "cell_type": "code",
      "source": [
        "df_test.isnull().sum()"
      ],
      "metadata": {
        "id": "tLuFIsi-SnDJ"
      },
      "execution_count": null,
      "outputs": []
    },
    {
      "cell_type": "markdown",
      "source": [
        "checking the distribution of categorical data"
      ],
      "metadata": {
        "id": "aQGibNEb_yWj"
      }
    },
    {
      "cell_type": "code",
      "source": [
        "print(df_train.ownership.value_counts())\n",
        "print(df_train.color.value_counts())\n",
        "print(df_train.transmission.value_counts())\n",
        "print(df_train.engine_fuel.value_counts())\n",
        "print(df_train.engine_type.value_counts())\n",
        "print(df_train.body_type.value_counts())\n",
        "print(df_train.type_of_drive.value_counts())"
      ],
      "metadata": {
        "id": "jzt7mXJ9_-eS"
      },
      "execution_count": null,
      "outputs": []
    },
    {
      "cell_type": "code",
      "source": [
        "print(df_test.ownership.value_counts())\n",
        "print(df_test.color.value_counts())\n",
        "print(df_test.transmission.value_counts())\n",
        "print(df_test.engine_fuel.value_counts())\n",
        "print(df_test.engine_type.value_counts())\n",
        "print(df_test.body_type.value_counts())\n",
        "print(df_test.type_of_drive.value_counts())\n"
      ],
      "metadata": {
        "id": "Ou58BDpJ7tEW"
      },
      "execution_count": null,
      "outputs": []
    },
    {
      "cell_type": "markdown",
      "source": [
        "\n",
        "**Encoding the Categorical Data**\n",
        "\n",
        "Encoding categorical variables is an important step in the data science process,before we can use it to fit and evaluate a model.Here,Label encoding is used to replace the object datatype comprising strings into numerical values"
      ],
      "metadata": {
        "id": "cLuLcKEh5GSM"
      }
    },
    {
      "cell_type": "markdown",
      "source": [
        "Label encoding or Ordinal encoding method\n",
        "\n"
      ],
      "metadata": {
        "id": "JfFIwmwg-GLV"
      }
    },
    {
      "cell_type": "code",
      "source": [
        "#Create object of ordinalencoding\n",
        "cleanup_nums={\"transmission\":  {\"manual\":0,\"automatic\":1},\n",
        "              \"color\":         {\"black\":0,\"silver\":1,\"blue\":2,\"white\":3,\"grey\":4,\n",
        "                                \"red\":5,\"green\":6,\"other\":7,\"brown\":8,\"violet\":9,\n",
        "                                \"yellow\":10,\"orange\":11},\n",
        "              \"engine_fuel\":   {\"gasoline\":0,\"diesel\":1,\"gas\":2,\"hybrid-petrol\":3,\n",
        "                                \"electric\":4,\"hybrid-diesel\":5},\n",
        "              \"engine_type\":   {\"gasoline\":0,\"diesel\":1,\"electric\":2},\n",
        "              \"body_type\":     {\"sedan\":0,\"hatchback\":1,\"universal\":2,\"suv\":3,\n",
        "                                \"minivan\":4,\"minibus\":5,\"van\":6,\"coupe\":7,\"liftback\":8,\n",
        "                                \"pickup\":9,\"cabriolet\":10,\"limousine\":11},\n",
        "              \"ownership\":     {\"owned\":0,\"new\":1,\"emergency\":2},\n",
        "              \"type_of_drive\": {\"front\":0,\"rear\":1,\"all\":2},\n",
        "             \n",
        "}"
      ],
      "metadata": {
        "id": "5T5n6ZpS89HQ"
      },
      "execution_count": null,
      "outputs": []
    },
    {
      "cell_type": "code",
      "source": [
        "#replace the values of categorical data in training set with numerical values\n",
        "df_train = df_train.replace(cleanup_nums)\n",
        "df_train.head()"
      ],
      "metadata": {
        "id": "Ky0E0cFM_rS4"
      },
      "execution_count": null,
      "outputs": []
    },
    {
      "cell_type": "code",
      "source": [
        "#check whether the datatype of categorical variables changed\n",
        "df_train.info()"
      ],
      "metadata": {
        "id": "bxw2HJYwgQm3"
      },
      "execution_count": null,
      "outputs": []
    },
    {
      "cell_type": "code",
      "source": [
        "##replace the values of categorical data in test set with numerical values\n",
        "df_test = df_test.replace(cleanup_nums)\n",
        "df_test.head()"
      ],
      "metadata": {
        "id": "NDRg1innAiNB"
      },
      "execution_count": null,
      "outputs": []
    },
    {
      "cell_type": "code",
      "source": [
        "# we only use other features except, \"manufacturer name and \"price_usd\", hence drop these columns.\n",
        "# We use axis=1, to drop a column, and,axis=0, to drop a row\n",
        "#Splitting Training data into input(x) and output(y)\n",
        "df_train_x = df_train.drop([\"manufacturer_name\",\"price_usd\"],axis=1)\n",
        "df_train_y = df_train[\"price_usd\"]"
      ],
      "metadata": {
        "id": "q_UlHMqh62nS"
      },
      "execution_count": null,
      "outputs": []
    },
    {
      "cell_type": "code",
      "source": [
        "print(df_train_x)"
      ],
      "metadata": {
        "id": "DTay1zE6-2Yg"
      },
      "execution_count": null,
      "outputs": []
    },
    {
      "cell_type": "code",
      "source": [
        "print(df_train_y)"
      ],
      "metadata": {
        "id": "ST29Ic3m_Bkz"
      },
      "execution_count": null,
      "outputs": []
    },
    {
      "cell_type": "code",
      "source": [
        "#Splitting Test data into input(x) and output(y)\n",
        "df_test_x = df_test.drop([\"manufacturer_name\",\"price_usd\"],axis=1)\n",
        "df_test_y = df_test[\"price_usd\"]"
      ],
      "metadata": {
        "id": "BhYxDA9x_8h_"
      },
      "execution_count": null,
      "outputs": []
    },
    {
      "cell_type": "markdown",
      "source": [
        "**MODEL** **TRAINING**"
      ],
      "metadata": {
        "id": "yfGVVVxxAmca"
      }
    },
    {
      "cell_type": "markdown",
      "source": [
        "  1.**Linear Regression**"
      ],
      "metadata": {
        "id": "wdWH-iRTA-lF"
      }
    },
    {
      "cell_type": "code",
      "source": [
        "# loading linear regression model\n",
        "lin_reg_model = LinearRegression()\n"
      ],
      "metadata": {
        "id": "P-f1f4kJAq69"
      },
      "execution_count": null,
      "outputs": []
    },
    {
      "cell_type": "code",
      "source": [
        "#using the training dataset only\n",
        "lin_reg_model.fit(df_train_x,df_train_y)"
      ],
      "metadata": {
        "colab": {
          "base_uri": "https://localhost:8080/"
        },
        "id": "XbuA0r_yHMtz",
        "outputId": "83c94e86-d8f0-4b2e-b529-74d87a1dae86"
      },
      "execution_count": null,
      "outputs": [
        {
          "output_type": "execute_result",
          "data": {
            "text/plain": [
              "LinearRegression()"
            ]
          },
          "metadata": {},
          "execution_count": 22
        }
      ]
    },
    {
      "cell_type": "markdown",
      "source": [
        "Model Evaluation using Training Data"
      ],
      "metadata": {
        "id": "Vy1HLpxIJyCp"
      }
    },
    {
      "cell_type": "code",
      "source": [
        "#prediction on training data\n",
        "training_data_prediction = lin_reg_model.predict(df_train_x)\n",
        "print(training_data_prediction)"
      ],
      "metadata": {
        "colab": {
          "base_uri": "https://localhost:8080/"
        },
        "id": "wiwfvJIrJ1dZ",
        "outputId": "f2025011-7472-450d-c44b-dfd86536d401"
      },
      "execution_count": null,
      "outputs": [
        {
          "output_type": "stream",
          "name": "stdout",
          "text": [
            "[13513.25077613  8568.27282868 10707.94734136 ...  3997.72966021\n",
            "  5478.66527724  5235.73419224]\n"
          ]
        }
      ]
    },
    {
      "cell_type": "code",
      "source": [
        "#Mean Squared Error\n",
        "MSE = mean_squared_error(df_train_y,training_data_prediction)\n",
        "print(\"Mean squared error:\", MSE)"
      ],
      "metadata": {
        "colab": {
          "base_uri": "https://localhost:8080/"
        },
        "id": "FOjjYtJMV7tv",
        "outputId": "3ea27148-afcf-4001-a3ca-98e35ae4c1c2"
      },
      "execution_count": null,
      "outputs": [
        {
          "output_type": "stream",
          "name": "stdout",
          "text": [
            "Mean squared error: 13390943.473078968\n"
          ]
        }
      ]
    },
    {
      "cell_type": "code",
      "source": [
        "#R squared Error\n",
        "error_score = metrics.r2_score(df_train_y,training_data_prediction)\n",
        "print(\"R squared error:\", error_score)"
      ],
      "metadata": {
        "colab": {
          "base_uri": "https://localhost:8080/"
        },
        "id": "d2rI8-_4Lr88",
        "outputId": "11b8df9e-373d-4b2c-c2ad-fc8451817ab3"
      },
      "execution_count": null,
      "outputs": [
        {
          "output_type": "stream",
          "name": "stdout",
          "text": [
            "R squared error: 0.6798148737588101\n"
          ]
        }
      ]
    },
    {
      "cell_type": "markdown",
      "source": [
        "Visualize the actual prices and predicted prices"
      ],
      "metadata": {
        "id": "bdFf0rF7PevF"
      }
    },
    {
      "cell_type": "code",
      "source": [
        "plt.scatter(df_train_y,training_data_prediction)\n",
        "plt.xlabel(\"Actual Price\")\n",
        "plt.ylabel(\"Predicted Price\")\n",
        "plt.title(\"Actual Prices vs Predicted Prices\")\n",
        "plt.show"
      ],
      "metadata": {
        "colab": {
          "base_uri": "https://localhost:8080/",
          "height": 312
        },
        "id": "QEyv9GbNPsSC",
        "outputId": "b5aca6ea-9747-4fc0-a276-2fa2f4cb20cd"
      },
      "execution_count": null,
      "outputs": [
        {
          "output_type": "execute_result",
          "data": {
            "text/plain": [
              "<function matplotlib.pyplot.show>"
            ]
          },
          "metadata": {},
          "execution_count": 27
        },
        {
          "output_type": "display_data",
          "data": {
            "text/plain": [
              "<Figure size 432x288 with 1 Axes>"
            ],
            "image/png": "[encoded data removed]"
          },
          "metadata": {
            "needs_background": "light"
          }
        }
      ]
    },
    {
      "cell_type": "markdown",
      "source": [
        "Model Evaluation using Test Data"
      ],
      "metadata": {
        "id": "Mho1SeRuRjPL"
      }
    },
    {
      "cell_type": "code",
      "source": [
        "#prediction on test data\n",
        "test_data_prediction = lin_reg_model.predict(df_test_x)"
      ],
      "metadata": {
        "id": "QDXaHky2Q6hG"
      },
      "execution_count": null,
      "outputs": []
    },
    {
      "cell_type": "code",
      "source": [
        "#Mean Squared Error\n",
        "MSE = mean_squared_error(df_test_y,test_data_prediction)\n",
        "print(\"Mean squared error:\", MSE)"
      ],
      "metadata": {
        "colab": {
          "base_uri": "https://localhost:8080/"
        },
        "id": "1BxDoJ9ya8FT",
        "outputId": "30a657fe-d02d-4f4c-f3af-97bbe5297e89"
      },
      "execution_count": null,
      "outputs": [
        {
          "output_type": "stream",
          "name": "stdout",
          "text": [
            "Mean squared error: 12685381.244072182\n"
          ]
        }
      ]
    },
    {
      "cell_type": "code",
      "source": [
        "#R squared Error\n",
        "error_score = metrics.r2_score(df_test_y,test_data_prediction)\n",
        "print(\"R squared error:\", error_score)"
      ],
      "metadata": {
        "colab": {
          "base_uri": "https://localhost:8080/"
        },
        "id": "9sh9_YXuRu2m",
        "outputId": "75312fb5-de3d-4768-9db1-c5e4bb377a57"
      },
      "execution_count": null,
      "outputs": [
        {
          "output_type": "stream",
          "name": "stdout",
          "text": [
            "R squared error: 0.6861663929614372\n"
          ]
        }
      ]
    },
    {
      "cell_type": "code",
      "source": [
        "plt.scatter(df_test_y,test_data_prediction)\n",
        "plt.xlabel(\"Actual Price\",color='red')\n",
        "plt.ylabel(\"Predicted Price\",color='blue')\n",
        "plt.title(\"Actual Prices vs Predicted Prices\")\n",
        "plt.show"
      ],
      "metadata": {
        "colab": {
          "base_uri": "https://localhost:8080/",
          "height": 235
        },
        "id": "CuBg9UouTLmY",
        "outputId": "8cce54f7-f6e9-4372-85e1-c65d09c03e04"
      },
      "execution_count": null,
      "outputs": [
        {
          "output_type": "error",
          "ename": "NameError",
          "evalue": "ignored",
          "traceback": [
            "\u001b[0;31m---------------------------------------------------------------------------\u001b[0m",
            "\u001b[0;31mNameError\u001b[0m                                 Traceback (most recent call last)",
            "\u001b[0;32m<ipython-input-13-445493bf4a77>\u001b[0m in \u001b[0;36m<module>\u001b[0;34m()\u001b[0m\n\u001b[0;32m----> 1\u001b[0;31m \u001b[0mplt\u001b[0m\u001b[0;34m.\u001b[0m\u001b[0mscatter\u001b[0m\u001b[0;34m(\u001b[0m\u001b[0mdf_test_y\u001b[0m\u001b[0;34m,\u001b[0m\u001b[0mtest_data_prediction\u001b[0m\u001b[0;34m)\u001b[0m\u001b[0;34m\u001b[0m\u001b[0;34m\u001b[0m\u001b[0m\n\u001b[0m\u001b[1;32m      2\u001b[0m \u001b[0mplt\u001b[0m\u001b[0;34m.\u001b[0m\u001b[0mxlabel\u001b[0m\u001b[0;34m(\u001b[0m\u001b[0;34m\"Actual Price\"\u001b[0m\u001b[0;34m,\u001b[0m\u001b[0mcolor\u001b[0m\u001b[0;34m=\u001b[0m\u001b[0;34m'red'\u001b[0m\u001b[0;34m)\u001b[0m\u001b[0;34m\u001b[0m\u001b[0;34m\u001b[0m\u001b[0m\n\u001b[1;32m      3\u001b[0m \u001b[0mplt\u001b[0m\u001b[0;34m.\u001b[0m\u001b[0mylabel\u001b[0m\u001b[0;34m(\u001b[0m\u001b[0;34m\"Predicted Price\"\u001b[0m\u001b[0;34m,\u001b[0m\u001b[0mcolor\u001b[0m\u001b[0;34m=\u001b[0m\u001b[0;34m'blue'\u001b[0m\u001b[0;34m)\u001b[0m\u001b[0;34m\u001b[0m\u001b[0;34m\u001b[0m\u001b[0m\n\u001b[1;32m      4\u001b[0m \u001b[0mplt\u001b[0m\u001b[0;34m.\u001b[0m\u001b[0mtitle\u001b[0m\u001b[0;34m(\u001b[0m\u001b[0;34m\"Actual Prices vs Predicted Prices\"\u001b[0m\u001b[0;34m)\u001b[0m\u001b[0;34m\u001b[0m\u001b[0;34m\u001b[0m\u001b[0m\n\u001b[1;32m      5\u001b[0m \u001b[0mplt\u001b[0m\u001b[0;34m.\u001b[0m\u001b[0mshow\u001b[0m\u001b[0;34m\u001b[0m\u001b[0;34m\u001b[0m\u001b[0m\n",
            "\u001b[0;31mNameError\u001b[0m: name 'test_data_prediction' is not defined"
          ]
        }
      ]
    },
    {
      "cell_type": "markdown",
      "source": [
        "**2.Random Forest Regressor**"
      ],
      "metadata": {
        "id": "olsdVhbwiGW_"
      }
    },
    {
      "cell_type": "code",
      "source": [
        "# Training\n",
        "from sklearn.ensemble import RandomForestRegressor\n",
        "model = RandomForestRegressor()\n",
        "model.fit(df_train_x,df_train_y)"
      ],
      "metadata": {
        "colab": {
          "base_uri": "https://localhost:8080/"
        },
        "id": "TvE4i-Z_omLT",
        "outputId": "98dc6269-e662-4148-f50c-54a10613eb45"
      },
      "execution_count": null,
      "outputs": [
        {
          "output_type": "execute_result",
          "data": {
            "text/plain": [
              "RandomForestRegressor()"
            ]
          },
          "metadata": {},
          "execution_count": 10
        }
      ]
    },
    {
      "cell_type": "code",
      "source": [
        "#Prediction\n",
        "Y_pred = model.predict(df_test_x)\n",
        "\n",
        "#R squared error\n",
        "from sklearn.metrics import r2_score\n",
        "r2score = r2_score(df_test_y,Y_pred)\n",
        "print(\"R2score\",r2score*100)"
      ],
      "metadata": {
        "colab": {
          "base_uri": "https://localhost:8080/"
        },
        "id": "bzeoRg3epauZ",
        "outputId": "4d91deaf-3ac6-470e-c725-40e82301d90c"
      },
      "execution_count": null,
      "outputs": [
        {
          "output_type": "stream",
          "name": "stdout",
          "text": [
            "R2score 94.95889603053462\n"
          ]
        }
      ]
    },
    {
      "cell_type": "code",
      "source": [
        "# Mean Squared Error\n",
        "MSE = mean_squared_error(df_test_y,Y_pred)\n",
        "print(\"Mean squared error:\", MSE)"
      ],
      "metadata": {
        "colab": {
          "base_uri": "https://localhost:8080/"
        },
        "id": "Ec3RuF84P4QV",
        "outputId": "09628d00-3bf7-45c4-cdef-f573e357069f"
      },
      "execution_count": null,
      "outputs": [
        {
          "output_type": "stream",
          "name": "stdout",
          "text": [
            "Mean squared error: 2037650.6629456142\n"
          ]
        }
      ]
    }
  ]
}