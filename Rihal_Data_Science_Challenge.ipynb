{
  "nbformat": 4,
  "nbformat_minor": 0,
  "metadata": {
    "colab": {
      "name": "Rihal Data Science Challenge.ipynb",
      "provenance": [],
      "collapsed_sections": [],
      "authorship_tag": "ABX9TyPest/oeojp4HtyRw+a0hrK",
      "include_colab_link": true
    },
    "kernelspec": {
      "name": "python3",
      "display_name": "Python 3"
    },
    "language_info": {
      "name": "python"
    }
  },
  "cells": [
    {
      "cell_type": "markdown",
      "metadata": {
        "id": "view-in-github",
        "colab_type": "text"
      },
      "source": [
        "<a href=\"https://colab.research.google.com/github/varsharoshan/Rihal_DataScience_Challenge/blob/main/Rihal_Data_Science_Challenge.ipynb\" target=\"_parent\"><img src=\"https://colab.research.google.com/assets/colab-badge.svg\" alt=\"Open In Colab\"/></a>"
      ]
    },
    {
      "cell_type": "markdown",
      "source": [
        "**Importing** **the** **Dependencies** \n"
      ],
      "metadata": {
        "id": "Qdcq7SjyHv2t"
      }
    },
    {
      "cell_type": "code",
      "source": [
        "import pandas as pd\n",
        "import numpy as np\n",
        "import seaborn as sns\n",
        "import matplotlib.pyplot as plt\n",
        "from sklearn.linear_model import LinearRegression\n",
        "from sklearn.linear_model import Lasso\n",
        "from sklearn import metrics\n",
        "from sklearn.metrics import mean_squared_error\n",
        "\n"
      ],
      "metadata": {
        "id": "O4RfQus4H3ug"
      },
      "execution_count": null,
      "outputs": []
    },
    {
      "cell_type": "markdown",
      "source": [
        "**DATA COLLECTION AND PROCESSING**"
      ],
      "metadata": {
        "id": "1yZE6C6iIN4a"
      }
    },
    {
      "cell_type": "code",
      "source": [
        "pd.options.display.max_columns = 110\n",
        "df_train = pd.read_csv('/data_train.csv')\n",
        "display(df_train.head())\n",
        "df_test = pd.read_csv('/data_test.csv')\n",
        "display(df_test.head())\n"
      ],
      "metadata": {
        "id": "jZPmPVZ_IWcA"
      },
      "execution_count": null,
      "outputs": []
    },
    {
      "cell_type": "markdown",
      "source": [
        "checking the number of rows and columns"
      ],
      "metadata": {
        "id": "9w-6rTfTMgVM"
      }
    },
    {
      "cell_type": "code",
      "source": [
        "#checking the number of rows and columns\n",
        "df_train.shape\n"
      ],
      "metadata": {
        "id": "M0oChEV1MYh_",
        "colab": {
          "base_uri": "https://localhost:8080/"
        },
        "outputId": "e9022e5c-eafa-486b-fd8d-da08a22eea4a"
      },
      "execution_count": null,
      "outputs": [
        {
          "output_type": "execute_result",
          "data": {
            "text/plain": [
              "(50000, 17)"
            ]
          },
          "metadata": {},
          "execution_count": 23
        }
      ]
    },
    {
      "cell_type": "code",
      "source": [
        "df_test.shape"
      ],
      "metadata": {
        "id": "lHo4OMXvfL3i",
        "colab": {
          "base_uri": "https://localhost:8080/"
        },
        "outputId": "9d46bdc6-3ec0-4eb4-c910-9f62ac7dbb3b"
      },
      "execution_count": null,
      "outputs": [
        {
          "output_type": "execute_result",
          "data": {
            "text/plain": [
              "(27000, 17)"
            ]
          },
          "metadata": {},
          "execution_count": 24
        }
      ]
    },
    {
      "cell_type": "markdown",
      "source": [
        "Getting some information about dataset \n"
      ],
      "metadata": {
        "id": "si3lsnBc6a7u"
      }
    },
    {
      "cell_type": "code",
      "source": [
        "df_train.info()"
      ],
      "metadata": {
        "colab": {
          "base_uri": "https://localhost:8080/"
        },
        "id": "ube80iqk6qBN",
        "outputId": "dbdc870d-aa5e-44ef-a150-d91d8179ed8b"
      },
      "execution_count": null,
      "outputs": [
        {
          "output_type": "stream",
          "name": "stdout",
          "text": [
            "<class 'pandas.core.frame.DataFrame'>\n",
            "RangeIndex: 50000 entries, 0 to 49999\n",
            "Data columns (total 17 columns):\n",
            " #   Column                 Non-Null Count  Dtype  \n",
            "---  ------                 --------------  -----  \n",
            " 0   manufacturer_name      50000 non-null  object \n",
            " 1   transmission           50000 non-null  object \n",
            " 2   color                  50000 non-null  object \n",
            " 3   odometer_value         50000 non-null  int64  \n",
            " 4   year_produced          50000 non-null  int64  \n",
            " 5   engine_fuel            50000 non-null  object \n",
            " 6   engine_type            50000 non-null  object \n",
            " 7   engine_capacity        49985 non-null  float64\n",
            " 8   body_type              50000 non-null  object \n",
            " 9   has_warranty           50000 non-null  bool   \n",
            " 10  ownership              50000 non-null  object \n",
            " 11  type_of_drive          50000 non-null  object \n",
            " 12  is_exchangeable        50000 non-null  bool   \n",
            " 13  number_of_photos       50000 non-null  int64  \n",
            " 14  number_of_maintenance  50000 non-null  int64  \n",
            " 15  duration_listed        50000 non-null  int64  \n",
            " 16  price_usd              50000 non-null  float64\n",
            "dtypes: bool(2), float64(2), int64(5), object(8)\n",
            "memory usage: 5.8+ MB\n"
          ]
        }
      ]
    },
    {
      "cell_type": "code",
      "source": [
        "df_test.info()"
      ],
      "metadata": {
        "colab": {
          "base_uri": "https://localhost:8080/"
        },
        "id": "QKVSeqLVR_qY",
        "outputId": "88eb91e8-0d05-4f14-d569-14d3643a8370"
      },
      "execution_count": null,
      "outputs": [
        {
          "output_type": "stream",
          "name": "stdout",
          "text": [
            "<class 'pandas.core.frame.DataFrame'>\n",
            "RangeIndex: 27000 entries, 0 to 26999\n",
            "Data columns (total 17 columns):\n",
            " #   Column                 Non-Null Count  Dtype  \n",
            "---  ------                 --------------  -----  \n",
            " 0   manufacturer_name      27000 non-null  object \n",
            " 1   transmission           27000 non-null  object \n",
            " 2   color                  27000 non-null  object \n",
            " 3   odometer_value         27000 non-null  int64  \n",
            " 4   year_produced          27000 non-null  int64  \n",
            " 5   engine_fuel            27000 non-null  object \n",
            " 6   engine_type            27000 non-null  object \n",
            " 7   engine_capacity        26995 non-null  float64\n",
            " 8   body_type              27000 non-null  object \n",
            " 9   has_warranty           27000 non-null  bool   \n",
            " 10  ownership              27000 non-null  object \n",
            " 11  type_of_drive          27000 non-null  object \n",
            " 12  is_exchangeable        27000 non-null  bool   \n",
            " 13  number_of_photos       27000 non-null  int64  \n",
            " 14  number_of_maintenance  27000 non-null  int64  \n",
            " 15  duration_listed        27000 non-null  int64  \n",
            " 16  price_usd              27000 non-null  float64\n",
            "dtypes: bool(2), float64(2), int64(5), object(8)\n",
            "memory usage: 3.1+ MB\n"
          ]
        }
      ]
    },
    {
      "cell_type": "markdown",
      "source": [
        "Checking the missing values"
      ],
      "metadata": {
        "id": "Od93PJZ9Cc_y"
      }
    },
    {
      "cell_type": "code",
      "source": [
        "df_train.isnull().sum()"
      ],
      "metadata": {
        "colab": {
          "base_uri": "https://localhost:8080/"
        },
        "id": "BmsbTh3MCbwc",
        "outputId": "ddcdf38c-ac23-4fc4-e419-31c6f118b4d4"
      },
      "execution_count": null,
      "outputs": [
        {
          "output_type": "execute_result",
          "data": {
            "text/plain": [
              "manufacturer_name         0\n",
              "transmission              0\n",
              "color                     0\n",
              "odometer_value            0\n",
              "year_produced             0\n",
              "engine_fuel               0\n",
              "engine_type               0\n",
              "engine_capacity          15\n",
              "body_type                 0\n",
              "has_warranty              0\n",
              "ownership                 0\n",
              "type_of_drive             0\n",
              "is_exchangeable           0\n",
              "number_of_photos          0\n",
              "number_of_maintenance     0\n",
              "duration_listed           0\n",
              "price_usd                 0\n",
              "dtype: int64"
            ]
          },
          "metadata": {},
          "execution_count": 27
        }
      ]
    },
    {
      "cell_type": "code",
      "source": [
        "df_test.isnull().sum()"
      ],
      "metadata": {
        "colab": {
          "base_uri": "https://localhost:8080/"
        },
        "id": "D6TlmkJ6R8zD",
        "outputId": "b1ff4514-686b-4ffd-994a-7ff225c5824f"
      },
      "execution_count": null,
      "outputs": [
        {
          "output_type": "execute_result",
          "data": {
            "text/plain": [
              "manufacturer_name        0\n",
              "transmission             0\n",
              "color                    0\n",
              "odometer_value           0\n",
              "year_produced            0\n",
              "engine_fuel              0\n",
              "engine_type              0\n",
              "engine_capacity          5\n",
              "body_type                0\n",
              "has_warranty             0\n",
              "ownership                0\n",
              "type_of_drive            0\n",
              "is_exchangeable          0\n",
              "number_of_photos         0\n",
              "number_of_maintenance    0\n",
              "duration_listed          0\n",
              "price_usd                0\n",
              "dtype: int64"
            ]
          },
          "metadata": {},
          "execution_count": 28
        }
      ]
    },
    {
      "cell_type": "markdown",
      "source": [
        "**Imputing the missing values**       \n",
        "\n",
        "There are several ways of replacing missing values:\n",
        "Replacing with mean:This is the most common method of imputing the missing values of numeric columns. We use 'fillna' method for imputing the column \"engine_capacity\" with the mean of respective column values.\n"
      ],
      "metadata": {
        "id": "4IZBXzUNFvWZ"
      }
    },
    {
      "cell_type": "code",
      "source": [
        "#replace the missing values for columns with mean in training set\n",
        "df_train['engine_capacity'] = df_train['engine_capacity'].fillna(df_train['engine_capacity'].mean())\n"
      ],
      "metadata": {
        "id": "aNhKgwaLHJef"
      },
      "execution_count": null,
      "outputs": []
    },
    {
      "cell_type": "code",
      "source": [
        "df_train.isnull().sum()"
      ],
      "metadata": {
        "colab": {
          "base_uri": "https://localhost:8080/"
        },
        "id": "hodyvfOLIFG4",
        "outputId": "2c614c29-8b48-4ebd-ecad-3bf5d5225ace"
      },
      "execution_count": null,
      "outputs": [
        {
          "output_type": "execute_result",
          "data": {
            "text/plain": [
              "manufacturer_name        0\n",
              "transmission             0\n",
              "color                    0\n",
              "odometer_value           0\n",
              "year_produced            0\n",
              "engine_fuel              0\n",
              "engine_type              0\n",
              "engine_capacity          0\n",
              "body_type                0\n",
              "has_warranty             0\n",
              "ownership                0\n",
              "type_of_drive            0\n",
              "is_exchangeable          0\n",
              "number_of_photos         0\n",
              "number_of_maintenance    0\n",
              "duration_listed          0\n",
              "price_usd                0\n",
              "dtype: int64"
            ]
          },
          "metadata": {},
          "execution_count": 30
        }
      ]
    },
    {
      "cell_type": "code",
      "source": [
        "#replace the missing values for columns with mean in test set\n",
        "df_test['engine_capacity'] = df_test['engine_capacity'].fillna(df_test['engine_capacity'].mean())"
      ],
      "metadata": {
        "id": "rmNkg_WBSciO"
      },
      "execution_count": null,
      "outputs": []
    },
    {
      "cell_type": "code",
      "source": [
        "df_test.isnull().sum()"
      ],
      "metadata": {
        "id": "tLuFIsi-SnDJ"
      },
      "execution_count": null,
      "outputs": []
    },
    {
      "cell_type": "markdown",
      "source": [
        "checking the distribution of categorical data"
      ],
      "metadata": {
        "id": "aQGibNEb_yWj"
      }
    },
    {
      "cell_type": "code",
      "source": [
        "print(df_train.ownership.value_counts())\n",
        "print(df_train.color.value_counts())\n",
        "print(df_train.transmission.value_counts())\n",
        "print(df_train.engine_fuel.value_counts())\n",
        "print(df_train.engine_type.value_counts())\n",
        "print(df_train.body_type.value_counts())\n",
        "print(df_train.type_of_drive.value_counts())"
      ],
      "metadata": {
        "id": "jzt7mXJ9_-eS"
      },
      "execution_count": null,
      "outputs": []
    },
    {
      "cell_type": "code",
      "source": [
        "print(df_test.ownership.value_counts())\n",
        "print(df_test.color.value_counts())\n",
        "print(df_test.transmission.value_counts())\n",
        "print(df_test.engine_fuel.value_counts())\n",
        "print(df_test.engine_type.value_counts())\n",
        "print(df_test.body_type.value_counts())\n",
        "print(df_test.type_of_drive.value_counts())\n"
      ],
      "metadata": {
        "id": "Ou58BDpJ7tEW"
      },
      "execution_count": null,
      "outputs": []
    },
    {
      "cell_type": "markdown",
      "source": [
        "\n",
        "**Encoding the Categorical Data**\n",
        "\n",
        "Encoding categorical variables is an important step in the data science process,before we can use it to fit and evaluate a model.Here,Label encoding is used to replace the object datatype comprising strings into numerical values"
      ],
      "metadata": {
        "id": "cLuLcKEh5GSM"
      }
    },
    {
      "cell_type": "markdown",
      "source": [
        "Label encoding or Ordinal encoding method\n",
        "\n"
      ],
      "metadata": {
        "id": "JfFIwmwg-GLV"
      }
    },
    {
      "cell_type": "code",
      "source": [
        "#Create object of ordinalencoding\n",
        "cleanup_nums={\"transmission\":  {\"manual\":0,\"automatic\":1},\n",
        "              \"color\":         {\"black\":0,\"silver\":1,\"blue\":2,\"white\":3,\"grey\":4,\n",
        "                                \"red\":5,\"green\":6,\"other\":7,\"brown\":8,\"violet\":9,\n",
        "                                \"yellow\":10,\"orange\":11},\n",
        "              \"engine_fuel\":   {\"gasoline\":0,\"diesel\":1,\"gas\":2,\"hybrid-petrol\":3,\n",
        "                                \"electric\":4,\"hybrid-diesel\":5},\n",
        "              \"engine_type\":   {\"gasoline\":0,\"diesel\":1,\"electric\":2},\n",
        "              \"body_type\":     {\"sedan\":0,\"hatchback\":1,\"universal\":2,\"suv\":3,\n",
        "                                \"minivan\":4,\"minibus\":5,\"van\":6,\"coupe\":7,\"liftback\":8,\n",
        "                                \"pickup\":9,\"cabriolet\":10,\"limousine\":11},\n",
        "              \"ownership\":     {\"owned\":0,\"new\":1,\"emergency\":2},\n",
        "              \"type_of_drive\": {\"front\":0,\"rear\":1,\"all\":2},\n",
        "             \n",
        "}"
      ],
      "metadata": {
        "id": "5T5n6ZpS89HQ"
      },
      "execution_count": 54,
      "outputs": []
    },
    {
      "cell_type": "code",
      "source": [
        "#replace the values of categorical data in training set with numerical values\n",
        "df_train = df_train.replace(cleanup_nums)\n",
        "df_train.head()"
      ],
      "metadata": {
        "id": "Ky0E0cFM_rS4",
        "colab": {
          "base_uri": "https://localhost:8080/",
          "height": 270
        },
        "outputId": "bef277c3-33e8-4159-c493-4acffc64ca25"
      },
      "execution_count": 55,
      "outputs": [
        {
          "output_type": "execute_result",
          "data": {
            "text/plain": [
              "  manufacturer_name  transmission  color  odometer_value  year_produced  \\\n",
              "0        Volkswagen             1      0          130000           2016   \n",
              "1           Renault             0      8          149000           2012   \n",
              "2               Kia             1      8          110000           2014   \n",
              "3              Opel             1      7          255100           2007   \n",
              "4             Mazda             0      2          650000           1999   \n",
              "\n",
              "   engine_fuel  engine_type  engine_capacity  body_type  has_warranty  \\\n",
              "0            1            1              1.6          2         False   \n",
              "1            0            0              1.6          0         False   \n",
              "2            0            0              1.6          1         False   \n",
              "3            0            0              1.8          1         False   \n",
              "4            0            0              2.0          0         False   \n",
              "\n",
              "   ownership  type_of_drive  is_exchangeable  number_of_photos  \\\n",
              "0          0              0             True                17   \n",
              "1          0              0            False                 9   \n",
              "2          0              0            False                 5   \n",
              "3          0              0            False                10   \n",
              "4          0              0             True                 5   \n",
              "\n",
              "   number_of_maintenance  duration_listed  price_usd  \n",
              "0                     38               67    13150.0  \n",
              "1                      3              100     7500.0  \n",
              "2                     10               91    12200.0  \n",
              "3                      4               91     4950.0  \n",
              "4                      7               62     3000.0  "
            ],
            "text/html": [
              "\n",
              "  <div id=\"df-e5f37598-78fb-4fd9-a1f3-269734119603\">\n",
              "    <div class=\"colab-df-container\">\n",
              "      <div>\n",
              "<style scoped>\n",
              "    .dataframe tbody tr th:only-of-type {\n",
              "        vertical-align: middle;\n",
              "    }\n",
              "\n",
              "    .dataframe tbody tr th {\n",
              "        vertical-align: top;\n",
              "    }\n",
              "\n",
              "    .dataframe thead th {\n",
              "        text-align: right;\n",
              "    }\n",
              "</style>\n",
              "<table border=\"1\" class=\"dataframe\">\n",
              "  <thead>\n",
              "    <tr style=\"text-align: right;\">\n",
              "      <th></th>\n",
              "      <th>manufacturer_name</th>\n",
              "      <th>transmission</th>\n",
              "      <th>color</th>\n",
              "      <th>odometer_value</th>\n",
              "      <th>year_produced</th>\n",
              "      <th>engine_fuel</th>\n",
              "      <th>engine_type</th>\n",
              "      <th>engine_capacity</th>\n",
              "      <th>body_type</th>\n",
              "      <th>has_warranty</th>\n",
              "      <th>ownership</th>\n",
              "      <th>type_of_drive</th>\n",
              "      <th>is_exchangeable</th>\n",
              "      <th>number_of_photos</th>\n",
              "      <th>number_of_maintenance</th>\n",
              "      <th>duration_listed</th>\n",
              "      <th>price_usd</th>\n",
              "    </tr>\n",
              "  </thead>\n",
              "  <tbody>\n",
              "    <tr>\n",
              "      <th>0</th>\n",
              "      <td>Volkswagen</td>\n",
              "      <td>1</td>\n",
              "      <td>0</td>\n",
              "      <td>130000</td>\n",
              "      <td>2016</td>\n",
              "      <td>1</td>\n",
              "      <td>1</td>\n",
              "      <td>1.6</td>\n",
              "      <td>2</td>\n",
              "      <td>False</td>\n",
              "      <td>0</td>\n",
              "      <td>0</td>\n",
              "      <td>True</td>\n",
              "      <td>17</td>\n",
              "      <td>38</td>\n",
              "      <td>67</td>\n",
              "      <td>13150.0</td>\n",
              "    </tr>\n",
              "    <tr>\n",
              "      <th>1</th>\n",
              "      <td>Renault</td>\n",
              "      <td>0</td>\n",
              "      <td>8</td>\n",
              "      <td>149000</td>\n",
              "      <td>2012</td>\n",
              "      <td>0</td>\n",
              "      <td>0</td>\n",
              "      <td>1.6</td>\n",
              "      <td>0</td>\n",
              "      <td>False</td>\n",
              "      <td>0</td>\n",
              "      <td>0</td>\n",
              "      <td>False</td>\n",
              "      <td>9</td>\n",
              "      <td>3</td>\n",
              "      <td>100</td>\n",
              "      <td>7500.0</td>\n",
              "    </tr>\n",
              "    <tr>\n",
              "      <th>2</th>\n",
              "      <td>Kia</td>\n",
              "      <td>1</td>\n",
              "      <td>8</td>\n",
              "      <td>110000</td>\n",
              "      <td>2014</td>\n",
              "      <td>0</td>\n",
              "      <td>0</td>\n",
              "      <td>1.6</td>\n",
              "      <td>1</td>\n",
              "      <td>False</td>\n",
              "      <td>0</td>\n",
              "      <td>0</td>\n",
              "      <td>False</td>\n",
              "      <td>5</td>\n",
              "      <td>10</td>\n",
              "      <td>91</td>\n",
              "      <td>12200.0</td>\n",
              "    </tr>\n",
              "    <tr>\n",
              "      <th>3</th>\n",
              "      <td>Opel</td>\n",
              "      <td>1</td>\n",
              "      <td>7</td>\n",
              "      <td>255100</td>\n",
              "      <td>2007</td>\n",
              "      <td>0</td>\n",
              "      <td>0</td>\n",
              "      <td>1.8</td>\n",
              "      <td>1</td>\n",
              "      <td>False</td>\n",
              "      <td>0</td>\n",
              "      <td>0</td>\n",
              "      <td>False</td>\n",
              "      <td>10</td>\n",
              "      <td>4</td>\n",
              "      <td>91</td>\n",
              "      <td>4950.0</td>\n",
              "    </tr>\n",
              "    <tr>\n",
              "      <th>4</th>\n",
              "      <td>Mazda</td>\n",
              "      <td>0</td>\n",
              "      <td>2</td>\n",
              "      <td>650000</td>\n",
              "      <td>1999</td>\n",
              "      <td>0</td>\n",
              "      <td>0</td>\n",
              "      <td>2.0</td>\n",
              "      <td>0</td>\n",
              "      <td>False</td>\n",
              "      <td>0</td>\n",
              "      <td>0</td>\n",
              "      <td>True</td>\n",
              "      <td>5</td>\n",
              "      <td>7</td>\n",
              "      <td>62</td>\n",
              "      <td>3000.0</td>\n",
              "    </tr>\n",
              "  </tbody>\n",
              "</table>\n",
              "</div>\n",
              "      <button class=\"colab-df-convert\" onclick=\"convertToInteractive('df-e5f37598-78fb-4fd9-a1f3-269734119603')\"\n",
              "              title=\"Convert this dataframe to an interactive table.\"\n",
              "              style=\"display:none;\">\n",
              "        \n",
              "  <svg xmlns=\"http://www.w3.org/2000/svg\" height=\"24px\"viewBox=\"0 0 24 24\"\n",
              "       width=\"24px\">\n",
              "    <path d=\"M0 0h24v24H0V0z\" fill=\"none\"/>\n",
              "    <path d=\"M18.56 5.44l.94 2.06.94-2.06 2.06-.94-2.06-.94-.94-2.06-.94 2.06-2.06.94zm-11 1L8.5 8.5l.94-2.06 2.06-.94-2.06-.94L8.5 2.5l-.94 2.06-2.06.94zm10 10l.94 2.06.94-2.06 2.06-.94-2.06-.94-.94-2.06-.94 2.06-2.06.94z\"/><path d=\"M17.41 7.96l-1.37-1.37c-.4-.4-.92-.59-1.43-.59-.52 0-1.04.2-1.43.59L10.3 9.45l-7.72 7.72c-.78.78-.78 2.05 0 2.83L4 21.41c.39.39.9.59 1.41.59.51 0 1.02-.2 1.41-.59l7.78-7.78 2.81-2.81c.8-.78.8-2.07 0-2.86zM5.41 20L4 18.59l7.72-7.72 1.47 1.35L5.41 20z\"/>\n",
              "  </svg>\n",
              "      </button>\n",
              "      \n",
              "  <style>\n",
              "    .colab-df-container {\n",
              "      display:flex;\n",
              "      flex-wrap:wrap;\n",
              "      gap: 12px;\n",
              "    }\n",
              "\n",
              "    .colab-df-convert {\n",
              "      background-color: #E8F0FE;\n",
              "      border: none;\n",
              "      border-radius: 50%;\n",
              "      cursor: pointer;\n",
              "      display: none;\n",
              "      fill: #1967D2;\n",
              "      height: 32px;\n",
              "      padding: 0 0 0 0;\n",
              "      width: 32px;\n",
              "    }\n",
              "\n",
              "    .colab-df-convert:hover {\n",
              "      background-color: #E2EBFA;\n",
              "      box-shadow: 0px 1px 2px rgba(60, 64, 67, 0.3), 0px 1px 3px 1px rgba(60, 64, 67, 0.15);\n",
              "      fill: #174EA6;\n",
              "    }\n",
              "\n",
              "    [theme=dark] .colab-df-convert {\n",
              "      background-color: #3B4455;\n",
              "      fill: #D2E3FC;\n",
              "    }\n",
              "\n",
              "    [theme=dark] .colab-df-convert:hover {\n",
              "      background-color: #434B5C;\n",
              "      box-shadow: 0px 1px 3px 1px rgba(0, 0, 0, 0.15);\n",
              "      filter: drop-shadow(0px 1px 2px rgba(0, 0, 0, 0.3));\n",
              "      fill: #FFFFFF;\n",
              "    }\n",
              "  </style>\n",
              "\n",
              "      <script>\n",
              "        const buttonEl =\n",
              "          document.querySelector('#df-e5f37598-78fb-4fd9-a1f3-269734119603 button.colab-df-convert');\n",
              "        buttonEl.style.display =\n",
              "          google.colab.kernel.accessAllowed ? 'block' : 'none';\n",
              "\n",
              "        async function convertToInteractive(key) {\n",
              "          const element = document.querySelector('#df-e5f37598-78fb-4fd9-a1f3-269734119603');\n",
              "          const dataTable =\n",
              "            await google.colab.kernel.invokeFunction('convertToInteractive',\n",
              "                                                     [key], {});\n",
              "          if (!dataTable) return;\n",
              "\n",
              "          const docLinkHtml = 'Like what you see? Visit the ' +\n",
              "            '<a target=\"_blank\" href=https://colab.research.google.com/notebooks/data_table.ipynb>data table notebook</a>'\n",
              "            + ' to learn more about interactive tables.';\n",
              "          element.innerHTML = '';\n",
              "          dataTable['output_type'] = 'display_data';\n",
              "          await google.colab.output.renderOutput(dataTable, element);\n",
              "          const docLink = document.createElement('div');\n",
              "          docLink.innerHTML = docLinkHtml;\n",
              "          element.appendChild(docLink);\n",
              "        }\n",
              "      </script>\n",
              "    </div>\n",
              "  </div>\n",
              "  "
            ]
          },
          "metadata": {},
          "execution_count": 55
        }
      ]
    },
    {
      "cell_type": "code",
      "source": [
        "#check whether the datatype of categorical variables changed\n",
        "df_train.info()"
      ],
      "metadata": {
        "id": "bxw2HJYwgQm3"
      },
      "execution_count": null,
      "outputs": []
    },
    {
      "cell_type": "code",
      "source": [
        "##replace the values of categorical data in test set with numerical values\n",
        "df_test = df_test.replace(cleanup_nums)\n",
        "df_test.head()"
      ],
      "metadata": {
        "id": "NDRg1innAiNB"
      },
      "execution_count": null,
      "outputs": []
    },
    {
      "cell_type": "code",
      "source": [
        "# we only use other features except, \"manufacturer name and \"price_usd\", hence drop these columns.\n",
        "# We use axis=1, to drop a column, and,axis=0, to drop a row\n",
        "#Splitting Training data into input(x) and output(y)\n",
        "df_train_x = df_train.drop([\"manufacturer_name\",\"price_usd\"],axis=1)\n",
        "df_train_y = df_train[\"price_usd\"]"
      ],
      "metadata": {
        "id": "q_UlHMqh62nS"
      },
      "execution_count": 58,
      "outputs": []
    },
    {
      "cell_type": "code",
      "source": [
        "print(df_train_x)"
      ],
      "metadata": {
        "id": "DTay1zE6-2Yg"
      },
      "execution_count": null,
      "outputs": []
    },
    {
      "cell_type": "code",
      "source": [
        "print(df_train_y)"
      ],
      "metadata": {
        "id": "ST29Ic3m_Bkz"
      },
      "execution_count": null,
      "outputs": []
    },
    {
      "cell_type": "code",
      "source": [
        "#Splitting Test data into input(x) and output(y)\n",
        "df_test_x = df_test.drop([\"manufacturer_name\",\"price_usd\"],axis=1)\n",
        "df_test_y = df_test[\"price_usd\"]"
      ],
      "metadata": {
        "id": "BhYxDA9x_8h_"
      },
      "execution_count": 59,
      "outputs": []
    },
    {
      "cell_type": "markdown",
      "source": [
        "**MODEL** **TRAINING**"
      ],
      "metadata": {
        "id": "yfGVVVxxAmca"
      }
    },
    {
      "cell_type": "markdown",
      "source": [
        "  1.**Linear Regression**"
      ],
      "metadata": {
        "id": "wdWH-iRTA-lF"
      }
    },
    {
      "cell_type": "code",
      "source": [
        "# loading linear regression model\n",
        "lin_reg_model = LinearRegression()\n"
      ],
      "metadata": {
        "id": "P-f1f4kJAq69"
      },
      "execution_count": 60,
      "outputs": []
    },
    {
      "cell_type": "code",
      "source": [
        "#using the training dataset only\n",
        "lin_reg_model.fit(df_train_x,df_train_y)"
      ],
      "metadata": {
        "colab": {
          "base_uri": "https://localhost:8080/"
        },
        "id": "XbuA0r_yHMtz",
        "outputId": "5b456f1c-e288-4b29-8d5e-16635a467614"
      },
      "execution_count": 61,
      "outputs": [
        {
          "output_type": "execute_result",
          "data": {
            "text/plain": [
              "LinearRegression()"
            ]
          },
          "metadata": {},
          "execution_count": 61
        }
      ]
    },
    {
      "cell_type": "markdown",
      "source": [
        "Model Evaluation using Training Data"
      ],
      "metadata": {
        "id": "Vy1HLpxIJyCp"
      }
    },
    {
      "cell_type": "code",
      "source": [
        "#prediction on training data\n",
        "training_data_prediction = lin_reg_model.predict(df_train_x)\n",
        "print(training_data_prediction)"
      ],
      "metadata": {
        "colab": {
          "base_uri": "https://localhost:8080/"
        },
        "id": "wiwfvJIrJ1dZ",
        "outputId": "17f723a5-4d38-4d16-b1b7-e32688bef76a"
      },
      "execution_count": 62,
      "outputs": [
        {
          "output_type": "stream",
          "name": "stdout",
          "text": [
            "[13513.25077613  8568.27282868 10707.94734136 ...  3997.72966021\n",
            "  5478.66527724  5235.73419224]\n"
          ]
        }
      ]
    },
    {
      "cell_type": "code",
      "source": [
        "#Mean Squared Error\n",
        "MSE = mean_squared_error(df_train_y,training_data_prediction)\n",
        "print(\"Mean squared error:\", MSE)"
      ],
      "metadata": {
        "colab": {
          "base_uri": "https://localhost:8080/"
        },
        "id": "FOjjYtJMV7tv",
        "outputId": "250b91b1-2da3-4570-a92c-0786ea4283fc"
      },
      "execution_count": 63,
      "outputs": [
        {
          "output_type": "stream",
          "name": "stdout",
          "text": [
            "Mean squared error: 13390943.473078975\n"
          ]
        }
      ]
    },
    {
      "cell_type": "code",
      "source": [
        "#R squared Error\n",
        "error_score = metrics.r2_score(df_train_y,training_data_prediction)\n",
        "print(\"R squared error:\", error_score)"
      ],
      "metadata": {
        "colab": {
          "base_uri": "https://localhost:8080/"
        },
        "id": "d2rI8-_4Lr88",
        "outputId": "2c5fa5ed-0572-4e85-8246-f66c523b08b4"
      },
      "execution_count": null,
      "outputs": [
        {
          "output_type": "stream",
          "name": "stdout",
          "text": [
            "R squared error: 0.6798148737588099\n"
          ]
        }
      ]
    },
    {
      "cell_type": "markdown",
      "source": [
        "Visualize the actual prices and predicted prices"
      ],
      "metadata": {
        "id": "bdFf0rF7PevF"
      }
    },
    {
      "cell_type": "code",
      "source": [
        "plt.scatter(df_train_y,training_data_prediction)\n",
        "plt.xlabel(\"Actual Price\")\n",
        "plt.ylabel(\"Predicted Price\")\n",
        "plt.title(\"Actual Prices vs Predicted Prices\")\n",
        "plt.show"
      ],
      "metadata": {
        "colab": {
          "base_uri": "https://localhost:8080/",
          "height": 312
        },
        "id": "QEyv9GbNPsSC",
        "outputId": "644e71ba-213a-4e94-dd7f-53121aaed305"
      },
      "execution_count": null,
      "outputs": [
        {
          "output_type": "execute_result",
          "data": {
            "text/plain": [
              "<function matplotlib.pyplot.show>"
            ]
          },
          "metadata": {},
          "execution_count": 47
        },
        {
          "output_type": "display_data",
          "data": {
            "text/plain": [
              "<Figure size 432x288 with 1 Axes>"
            ],
            "image/png": "[encoded data removed]"
          },
          "metadata": {
            "needs_background": "light"
          }
        }
      ]
    },
    {
      "cell_type": "markdown",
      "source": [
        "Model Evaluation using Test Data"
      ],
      "metadata": {
        "id": "Mho1SeRuRjPL"
      }
    },
    {
      "cell_type": "code",
      "source": [
        "#prediction on test data\n",
        "test_data_prediction = lin_reg_model.predict(df_test_x)"
      ],
      "metadata": {
        "id": "QDXaHky2Q6hG"
      },
      "execution_count": null,
      "outputs": []
    },
    {
      "cell_type": "code",
      "source": [
        "#Mean Squared Error\n",
        "MSE = mean_squared_error(df_test_y,test_data_prediction)\n",
        "print(\"Mean squared error:\", MSE)"
      ],
      "metadata": {
        "colab": {
          "base_uri": "https://localhost:8080/"
        },
        "id": "1BxDoJ9ya8FT",
        "outputId": "30a657fe-d02d-4f4c-f3af-97bbe5297e89"
      },
      "execution_count": null,
      "outputs": [
        {
          "output_type": "stream",
          "name": "stdout",
          "text": [
            "Mean squared error: 12685381.244072182\n"
          ]
        }
      ]
    },
    {
      "cell_type": "code",
      "source": [
        "#R squared Error\n",
        "error_score = metrics.r2_score(df_test_y,test_data_prediction)\n",
        "print(\"R squared error:\", error_score)"
      ],
      "metadata": {
        "colab": {
          "base_uri": "https://localhost:8080/"
        },
        "id": "9sh9_YXuRu2m",
        "outputId": "75312fb5-de3d-4768-9db1-c5e4bb377a57"
      },
      "execution_count": null,
      "outputs": [
        {
          "output_type": "stream",
          "name": "stdout",
          "text": [
            "R squared error: 0.6861663929614372\n"
          ]
        }
      ]
    },
    {
      "cell_type": "code",
      "source": [
        "plt.scatter(df_test_y,test_data_prediction)\n",
        "plt.xlabel(\"Actual Price\",color='red')\n",
        "plt.ylabel(\"Predicted Price\",color='blue')\n",
        "plt.title(\"Actual Prices vs Predicted Prices\")\n",
        "plt.show"
      ],
      "metadata": {
        "colab": {
          "base_uri": "https://localhost:8080/",
          "height": 312
        },
        "id": "CuBg9UouTLmY",
        "outputId": "4e8aa161-1c0e-4aff-b917-297bcf4189de"
      },
      "execution_count": null,
      "outputs": [
        {
          "output_type": "execute_result",
          "data": {
            "text/plain": [
              "<function matplotlib.pyplot.show>"
            ]
          },
          "metadata": {},
          "execution_count": 51
        },
        {
          "output_type": "display_data",
          "data": {
            "text/plain": [
              "<Figure size 432x288 with 1 Axes>"
            ],
            "image/png": "[encoded data removed]"
          },
          "metadata": {
            "needs_background": "light"
          }
        }
      ]
    }
  ]
}